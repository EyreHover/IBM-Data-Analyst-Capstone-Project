{
 "cells": [
  {
   "cell_type": "markdown",
   "metadata": {},
   "source": [
    "<p style=\"text-align:center\">\n",
    "    <a href=\"https://skills.network/?utm_medium=Exinfluencer&utm_source=Exinfluencer&utm_content=000026UJ&utm_term=10006555&utm_id=NA-SkillsNetwork-Channel-SkillsNetworkCoursesIBMDA0321ENSkillsNetwork928-2022-01-01\" target=\"_blank\">\n",
    "    <img src=\"https://cf-courses-data.s3.us.cloud-object-storage.appdomain.cloud/assets/logos/SN_web_lightmode.png\" width=\"200\" alt=\"Skills Network Logo\"  />\n",
    "    </a>\n",
    "</p>\n"
   ]
  },
  {
   "cell_type": "markdown",
   "metadata": {},
   "source": [
    "# **Collecting Job Data Using APIs**\n"
   ]
  },
  {
   "cell_type": "markdown",
   "metadata": {},
   "source": [
    "Estimated time needed: **45 to 60** minutes\n"
   ]
  },
  {
   "cell_type": "markdown",
   "metadata": {},
   "source": [
    "## Objectives\n"
   ]
  },
  {
   "cell_type": "markdown",
   "metadata": {},
   "source": [
    "After completing this lab, you will be able to:\n"
   ]
  },
  {
   "cell_type": "markdown",
   "metadata": {},
   "source": [
    "*   Collect job data from Jobs API\n",
    "*   Store the collected data into an excel spreadsheet.\n"
   ]
  },
  {
   "cell_type": "markdown",
   "metadata": {},
   "source": [
    "><strong>Note: Before starting with the assignment make sure to read all the instructions and then move ahead with the coding part.</strong>\n"
   ]
  },
  {
   "cell_type": "markdown",
   "metadata": {},
   "source": [
    "#### Instructions\n"
   ]
  },
  {
   "cell_type": "markdown",
   "metadata": {},
   "source": [
    "To run the actual lab, firstly you need to click on the [Jobs_API](https://cf-courses-data.s3.us.cloud-object-storage.appdomain.cloud/IBM-DA0321EN-SkillsNetwork/labs/module%201/Accessing%20Data%20Using%20APIs/Jobs_API.ipynb) notebook link. The file contains flask code which is required to run the Jobs API data.\n",
    "\n",
    "Now, to run the code in the file that opens up follow the below steps.\n",
    "\n",
    "Step1: Download the file. \n",
    "\n",
    "Step2: Upload it on the IBM Watson studio. (If IBM Watson Cloud service does not work in your system, follow the alternate Step 2 below)\n",
    "\n",
    "Step2(alternate): Upload it in your SN labs environment using the upload button which is highlighted in red in the image below:\n",
    "Remember to upload this Jobs_API file in the same folder as your current .ipynb file\n",
    "\n",
    "<img src=\"https://cf-courses-data.s3.us.cloud-object-storage.appdomain.cloud/IBM-DA0321EN-SkillsNetwork/labs/module%201/Accessing%20Data%20Using%20APIs/Upload.PNG\">\n",
    "\n",
    "Step3:  Run all the cells of the Jobs_API file. (Even if you receive an asterik sign after running the last cell, the code works fine.)\n",
    "\n",
    "If you want to learn more about flask, which is optional, you can click on this link [here](https://cf-courses-data.s3.us.cloud-object-storage.appdomain.cloud/IBM-DA0321EN-SkillsNetwork/labs/module%201/Accessing%20Data%20Using%20APIs/FLASK_API.md.html).\n",
    "\n",
    "Once you run the flask code, you can start with your assignment.\n"
   ]
  },
  {
   "cell_type": "markdown",
   "metadata": {},
   "source": [
    "## Dataset Used in this Assignment\n",
    "\n",
    "The dataset used in this lab comes from the following source: https://www.kaggle.com/promptcloud/jobs-on-naukricom under the under a **Public Domain license**.\n",
    "\n",
    "> Note: We are using a modified subset of that dataset for the lab, so to follow the lab instructions successfully please use the dataset provided with the lab, rather than the dataset from the original source.\n",
    "\n",
    "The original dataset is a csv. We have converted the csv to json as per the requirement of the lab.\n"
   ]
  },
  {
   "cell_type": "markdown",
   "metadata": {},
   "source": [
    "## Warm-Up Exercise\n"
   ]
  },
  {
   "cell_type": "markdown",
   "metadata": {},
   "source": [
    "Before you attempt the actual lab, here is a fully solved warmup exercise that will help you to learn how to access an API.\n"
   ]
  },
  {
   "cell_type": "markdown",
   "metadata": {},
   "source": [
    "Using an API, let us find out who currently are on the International Space Station (ISS).<br> The API at [http://api.open-notify.org/astros.json](http://api.open-notify.org/astros.json?utm_medium=Exinfluencer&utm_source=Exinfluencer&utm_content=000026UJ&utm_term=10006555&utm_id=NA-SkillsNetwork-Channel-SkillsNetworkCoursesIBMDA0321ENSkillsNetwork21426264-2021-01-01&cm_mmc=Email_Newsletter-_-Developer_Ed%2BTech-_-WW_WW-_-SkillsNetwork-Courses-IBM-DA0321EN-SkillsNetwork-21426264&cm_mmca1=000026UJ&cm_mmca2=10006555&cm_mmca3=M12345678&cvosrc=email.Newsletter.M12345678&cvo_campaign=000026UJ) gives us the information of astronauts currently on ISS in json format.<br>\n",
    "You can read more about this API at [http://open-notify.org/Open-Notify-API/People-In-Space/](http://open-notify.org/Open-Notify-API/People-In-Space?utm_medium=Exinfluencer&utm_source=Exinfluencer&utm_content=000026UJ&utm_term=10006555&utm_id=NA-SkillsNetwork-Channel-SkillsNetworkCoursesIBMDA0321ENSkillsNetwork21426264-2021-01-01&cm_mmc=Email_Newsletter-_-Developer_Ed%2BTech-_-WW_WW-_-SkillsNetwork-Courses-IBM-DA0321EN-SkillsNetwork-21426264&cm_mmca1=000026UJ&cm_mmca2=10006555&cm_mmca3=M12345678&cvosrc=email.Newsletter.M12345678&cvo_campaign=000026UJ)\n"
   ]
  },
  {
   "cell_type": "code",
   "execution_count": 1,
   "metadata": {
    "tags": []
   },
   "outputs": [],
   "source": [
    "import requests # you need this module to make an API call\n",
    "import pandas as pd"
   ]
  },
  {
   "cell_type": "code",
   "execution_count": 27,
   "metadata": {
    "tags": []
   },
   "outputs": [],
   "source": [
    "api_url = \"http://api.open-notify.org/astros.json\" # this url gives use the astronaut data"
   ]
  },
  {
   "cell_type": "code",
   "execution_count": 28,
   "metadata": {
    "tags": []
   },
   "outputs": [],
   "source": [
    "response = requests.get(api_url) # Call the API using the get method and store the\n",
    "                                # output of the API call in a variable called response."
   ]
  },
  {
   "cell_type": "code",
   "execution_count": 29,
   "metadata": {
    "tags": []
   },
   "outputs": [],
   "source": [
    "if response.ok:             # if all is well() no errors, no network timeouts)\n",
    "    data = response.json()  # store the result in json format in a variable called data\n",
    "                            # the variable data is of type dictionary."
   ]
  },
  {
   "cell_type": "code",
   "execution_count": null,
   "metadata": {},
   "outputs": [],
   "source": []
  },
  {
   "cell_type": "code",
   "execution_count": 30,
   "metadata": {
    "tags": []
   },
   "outputs": [
    {
     "name": "stdout",
     "output_type": "stream",
     "text": [
      "{'number': 10, 'people': [{'name': 'Sergey Prokopyev', 'craft': 'ISS'}, {'name': 'Dmitry Petelin', 'craft': 'ISS'}, {'name': 'Frank Rubio', 'craft': 'ISS'}, {'name': 'Stephen Bowen', 'craft': 'ISS'}, {'name': 'Warren Hoburg', 'craft': 'ISS'}, {'name': 'Sultan Alneyadi', 'craft': 'ISS'}, {'name': 'Andrey Fedyaev', 'craft': 'ISS'}, {'name': 'Jing Haiping', 'craft': 'Tiangong'}, {'name': 'Gui Haichow', 'craft': 'Tiangong'}, {'name': 'Zhu Yangzhu', 'craft': 'Tiangong'}], 'message': 'success'}\n"
     ]
    }
   ],
   "source": [
    "print(data)   # print the data just to check the output or for debugging"
   ]
  },
  {
   "cell_type": "markdown",
   "metadata": {},
   "source": [
    "Print the number of astronauts currently on ISS.\n"
   ]
  },
  {
   "cell_type": "code",
   "execution_count": 31,
   "metadata": {
    "tags": []
   },
   "outputs": [
    {
     "name": "stdout",
     "output_type": "stream",
     "text": [
      "10\n"
     ]
    }
   ],
   "source": [
    "print(data.get('number'))"
   ]
  },
  {
   "cell_type": "markdown",
   "metadata": {},
   "source": [
    "Print the names of the astronauts currently on ISS.\n"
   ]
  },
  {
   "cell_type": "code",
   "execution_count": 32,
   "metadata": {
    "tags": []
   },
   "outputs": [
    {
     "name": "stdout",
     "output_type": "stream",
     "text": [
      "There are 10 astronauts on ISS\n",
      "And their names are :\n",
      "Sergey Prokopyev\n",
      "Dmitry Petelin\n",
      "Frank Rubio\n",
      "Stephen Bowen\n",
      "Warren Hoburg\n",
      "Sultan Alneyadi\n",
      "Andrey Fedyaev\n",
      "Jing Haiping\n",
      "Gui Haichow\n",
      "Zhu Yangzhu\n"
     ]
    }
   ],
   "source": [
    "astronauts = data.get('people')\n",
    "print(\"There are {} astronauts on ISS\".format(len(astronauts)))\n",
    "print(\"And their names are :\")\n",
    "for astronaut in astronauts:\n",
    "    print(astronaut.get('name'))"
   ]
  },
  {
   "cell_type": "markdown",
   "metadata": {},
   "source": [
    "Hope the warmup was helpful. Good luck with your next lab!\n"
   ]
  },
  {
   "cell_type": "markdown",
   "metadata": {},
   "source": [
    "## Lab: Collect Jobs Data using Jobs API\n"
   ]
  },
  {
   "cell_type": "markdown",
   "metadata": {},
   "source": [
    "### Objective: Determine the number of jobs currently open for various technologies  and for various locations\n"
   ]
  },
  {
   "cell_type": "markdown",
   "metadata": {},
   "source": [
    "Collect the number of job postings for the following locations using the API:\n",
    "\n",
    "* Los Angeles\n",
    "* New York\n",
    "* San Francisco\n",
    "* Washington DC\n",
    "* Seattle\n",
    "* Austin\n",
    "* Detroit\n"
   ]
  },
  {
   "cell_type": "code",
   "execution_count": 2,
   "metadata": {
    "tags": []
   },
   "outputs": [],
   "source": [
    "#Import required libraries\n",
    "import pandas as pd\n",
    "import json"
   ]
  },
  {
   "cell_type": "markdown",
   "metadata": {},
   "source": [
    "#### Write a function to get the number of jobs for the Python technology.<br>\n",
    "> Note: While using the lab you need to pass the **payload** information for the **params** attribute in the form of **key** **value** pairs.\n",
    "  Refer the ungraded **rest api lab** in the course **Python for Data Science, AI & Development**  <a href=\"https://www.coursera.org/learn/python-for-applied-data-science-ai/ungradedLti/P6sW8/hands-on-lab-access-rest-apis-request-http?utm_medium=Exinfluencer&utm_source=Exinfluencer&utm_content=000026UJ&utm_term=10006555&utm_id=NA-SkillsNetwork-Channel-SkillsNetworkCoursesIBMDA0321ENSkillsNetwork928-2022-01-01\">link</a>\n",
    "  \n",
    " ##### The keys in the json are \n",
    " * Job Title\n",
    " \n",
    " * Job Experience Required\n",
    " \n",
    " * Key Skills\n",
    " \n",
    " * Role Category\n",
    " \n",
    " * Location\n",
    " \n",
    " * Functional Area\n",
    " \n",
    " * Industry\n",
    " \n",
    " * Role \n",
    " \n",
    "You can also view  the json file contents  from the following <a href = \"https://cf-courses-data.s3.us.cloud-object-storage.appdomain.cloud/IBM-DA0321EN-SkillsNetwork/labs/module%201/Accessing%20Data%20Using%20APIs/jobs.json\">json</a> URL.\n"
   ]
  },
  {
   "cell_type": "code",
   "execution_count": 12,
   "metadata": {
    "tags": []
   },
   "outputs": [
    {
     "name": "stdout",
     "output_type": "stream",
     "text": [
      "640\n",
      "3226\n",
      "435\n",
      "5316\n",
      "3375\n",
      "434\n",
      "3945\n"
     ]
    }
   ],
   "source": [
    "api_url = \"http://127.0.0.1:5000/data\"\n",
    "\n",
    "payload1 = {\"Location\": \"Los Angeles\"}\n",
    "payload2 = {\"Location\": \"New York\"}\n",
    "payload3 = {\"Location\": \"San Francisco\"}\n",
    "payload4 = {\"Location\": \"Washington DC\"}\n",
    "payload5 = {\"Location\": \"Seattle\"}\n",
    "payload6 = {\"Location\": \"Austin\"}\n",
    "payload7 = {\"Location\": \"Detroit\"}\n",
    "\n",
    "response = requests.get(api_url, params=payload1)\n",
    "data = response.json()\n",
    "data1 = pd.json_normalize(data)\n",
    "\n",
    "response = requests.get(api_url, params=payload2)\n",
    "data = response.json()\n",
    "data2 = pd.json_normalize(data)\n",
    "\n",
    "response = requests.get(api_url, params=payload3)\n",
    "data = response.json()\n",
    "data3 = pd.json_normalize(data)\n",
    "\n",
    "response = requests.get(api_url, params=payload4)\n",
    "data = response.json()\n",
    "data4 = pd.json_normalize(data)\n",
    "\n",
    "response = requests.get(api_url, params=payload5)\n",
    "data = response.json()\n",
    "data5 = pd.json_normalize(data)\n",
    "\n",
    "response = requests.get(api_url, params=payload6)\n",
    "data = response.json()\n",
    "data6 = pd.json_normalize(data)\n",
    "\n",
    "response = requests.get(api_url, params=payload7)\n",
    "data = response.json()\n",
    "data7 = pd.json_normalize(data\n",
    "                          \n",
    "\n",
    "print(len(data1))\n",
    "print(len(data2))\n",
    "print(len(data3))\n",
    "print(len(data4))\n",
    "print(len(data5))\n",
    "print(len(data6))\n",
    "print(len(data7))"
   ]
  },
  {
   "cell_type": "code",
   "execution_count": 15,
   "metadata": {
    "tags": []
   },
   "outputs": [
    {
     "data": {
      "text/html": [
       "<div>\n",
       "<style scoped>\n",
       "    .dataframe tbody tr th:only-of-type {\n",
       "        vertical-align: middle;\n",
       "    }\n",
       "\n",
       "    .dataframe tbody tr th {\n",
       "        vertical-align: top;\n",
       "    }\n",
       "\n",
       "    .dataframe thead th {\n",
       "        text-align: right;\n",
       "    }\n",
       "</style>\n",
       "<table border=\"1\" class=\"dataframe\">\n",
       "  <thead>\n",
       "    <tr style=\"text-align: right;\">\n",
       "      <th></th>\n",
       "      <th>Functional Area</th>\n",
       "      <th>Id</th>\n",
       "      <th>Industry</th>\n",
       "      <th>Job Experience Required</th>\n",
       "      <th>Job Title</th>\n",
       "      <th>Key Skills</th>\n",
       "      <th>Location</th>\n",
       "      <th>Role</th>\n",
       "      <th>Role Category</th>\n",
       "    </tr>\n",
       "  </thead>\n",
       "  <tbody>\n",
       "    <tr>\n",
       "      <th>0</th>\n",
       "      <td>Marketing , Advertising , MR , PR , Media Plan...</td>\n",
       "      <td>0</td>\n",
       "      <td>Advertising, PR, MR, Event Management</td>\n",
       "      <td>5 - 10 yrs</td>\n",
       "      <td>Digital Media Planner</td>\n",
       "      <td>Media Planning| Digital Media</td>\n",
       "      <td>Los Angeles</td>\n",
       "      <td>Media Planning Executive/Manager</td>\n",
       "      <td>Advertising</td>\n",
       "    </tr>\n",
       "    <tr>\n",
       "      <th>1</th>\n",
       "      <td>Strategy , Management Consulting , Corporate P...</td>\n",
       "      <td>10</td>\n",
       "      <td>Courier, Transportation, Freight , Warehousing</td>\n",
       "      <td>5 - 10 yrs</td>\n",
       "      <td>Executive Assistant To Chairman</td>\n",
       "      <td>secretary| executive assistant| ea</td>\n",
       "      <td>Los Angeles</td>\n",
       "      <td>Corporate Planning/Strategy Manager</td>\n",
       "      <td>Corporate Planning/Consulting/Strategy</td>\n",
       "    </tr>\n",
       "    <tr>\n",
       "      <th>2</th>\n",
       "      <td>HR , Recruitment , Administration , IR</td>\n",
       "      <td>90</td>\n",
       "      <td>Construction, Engineering, Cement, Metals</td>\n",
       "      <td>8 - 12 yrs</td>\n",
       "      <td>Manager (Service Operation)</td>\n",
       "      <td>ERP| Succession Planning| MIS| Reports| Talent...</td>\n",
       "      <td>Los Angeles</td>\n",
       "      <td>Training Manager</td>\n",
       "      <td>HR/ Recruitment / IR</td>\n",
       "    </tr>\n",
       "    <tr>\n",
       "      <th>3</th>\n",
       "      <td>IT Software - Application Programming , Mainte...</td>\n",
       "      <td>91</td>\n",
       "      <td>IT-Software, Software Services</td>\n",
       "      <td>0 - 1 yrs</td>\n",
       "      <td>DevOps Engineer Intern</td>\n",
       "      <td>Intern| Linux| Windows| Unix| DNS| C++| Perl| ...</td>\n",
       "      <td>Los Angeles</td>\n",
       "      <td>Software Developer</td>\n",
       "      <td>Programming &amp; Design</td>\n",
       "    </tr>\n",
       "    <tr>\n",
       "      <th>4</th>\n",
       "      <td>IT Software - Application Programming , Mainte...</td>\n",
       "      <td>92</td>\n",
       "      <td>IT-Software, Software Services</td>\n",
       "      <td>2 - 5 yrs</td>\n",
       "      <td>PHP Developer (wordpress &amp; Woo Commerce/shopif...</td>\n",
       "      <td>C| Woocommerce| Magento| Wordpress| MySQL| PHP...</td>\n",
       "      <td>Los Angeles</td>\n",
       "      <td>Software Developer</td>\n",
       "      <td>Programming &amp; Design</td>\n",
       "    </tr>\n",
       "    <tr>\n",
       "      <th>...</th>\n",
       "      <td>...</td>\n",
       "      <td>...</td>\n",
       "      <td>...</td>\n",
       "      <td>...</td>\n",
       "      <td>...</td>\n",
       "      <td>...</td>\n",
       "      <td>...</td>\n",
       "      <td>...</td>\n",
       "      <td>...</td>\n",
       "    </tr>\n",
       "    <tr>\n",
       "      <th>3940</th>\n",
       "      <td>IT Software - Embedded , EDA , VLSI , ASIC , C...</td>\n",
       "      <td>29995</td>\n",
       "      <td>Semiconductors, Electronics</td>\n",
       "      <td>9 - 12 yrs</td>\n",
       "      <td>MTS-Software-Engineer</td>\n",
       "      <td>Graphics| C++| USB| Project management| SOC| F...</td>\n",
       "      <td>Detroit</td>\n",
       "      <td>Software Developer</td>\n",
       "      <td>Programming &amp; Design</td>\n",
       "    </tr>\n",
       "    <tr>\n",
       "      <th>3941</th>\n",
       "      <td>ITES , BPO , KPO , LPO , Customer Service , Op...</td>\n",
       "      <td>29996</td>\n",
       "      <td>Education, Teaching, Training</td>\n",
       "      <td>1 - 5 yrs</td>\n",
       "      <td>Client Relationship Manager</td>\n",
       "      <td>Service delivery| LMS| CRE| Integration servic...</td>\n",
       "      <td>Detroit</td>\n",
       "      <td>Operations Manager</td>\n",
       "      <td>Operations</td>\n",
       "    </tr>\n",
       "    <tr>\n",
       "      <th>3942</th>\n",
       "      <td>Teaching , Education , Training , Counselling</td>\n",
       "      <td>29997</td>\n",
       "      <td>Education, Teaching, Training</td>\n",
       "      <td>4 - 6 yrs</td>\n",
       "      <td>Assoc. Prof.- CS</td>\n",
       "      <td>Counselor| Mentor| Trainer| Advisor| Teaching</td>\n",
       "      <td>Detroit</td>\n",
       "      <td>Lecturer/Professor</td>\n",
       "      <td>University Level</td>\n",
       "    </tr>\n",
       "    <tr>\n",
       "      <th>3943</th>\n",
       "      <td>IT Software - Application Programming , Mainte...</td>\n",
       "      <td>29998</td>\n",
       "      <td>IT-Software, Software Services</td>\n",
       "      <td>5 - 10 yrs</td>\n",
       "      <td>Application/Cyber Security Specialist-New Jersey</td>\n",
       "      <td>Security Analysis| Software Development Life C...</td>\n",
       "      <td>Detroit</td>\n",
       "      <td>Software Developer</td>\n",
       "      <td>Programming &amp; Design</td>\n",
       "    </tr>\n",
       "    <tr>\n",
       "      <th>3944</th>\n",
       "      <td>Marketing , Advertising , MR , PR , Media Plan...</td>\n",
       "      <td>29999</td>\n",
       "      <td>IT-Software, Software Services</td>\n",
       "      <td>2 - 7 yrs</td>\n",
       "      <td>Press Release Writer - SEO</td>\n",
       "      <td>Press release| Public relations| Publishing| W...</td>\n",
       "      <td>Detroit</td>\n",
       "      <td>Search Engine Optimisation /SEO Specialist</td>\n",
       "      <td>Online/Digital Marketing</td>\n",
       "    </tr>\n",
       "  </tbody>\n",
       "</table>\n",
       "<p>17371 rows × 9 columns</p>\n",
       "</div>"
      ],
      "text/plain": [
       "                                        Functional Area     Id  \\\n",
       "0     Marketing , Advertising , MR , PR , Media Plan...      0   \n",
       "1     Strategy , Management Consulting , Corporate P...     10   \n",
       "2                HR , Recruitment , Administration , IR     90   \n",
       "3     IT Software - Application Programming , Mainte...     91   \n",
       "4     IT Software - Application Programming , Mainte...     92   \n",
       "...                                                 ...    ...   \n",
       "3940  IT Software - Embedded , EDA , VLSI , ASIC , C...  29995   \n",
       "3941  ITES , BPO , KPO , LPO , Customer Service , Op...  29996   \n",
       "3942      Teaching , Education , Training , Counselling  29997   \n",
       "3943  IT Software - Application Programming , Mainte...  29998   \n",
       "3944  Marketing , Advertising , MR , PR , Media Plan...  29999   \n",
       "\n",
       "                                            Industry Job Experience Required  \\\n",
       "0              Advertising, PR, MR, Event Management              5 - 10 yrs   \n",
       "1     Courier, Transportation, Freight , Warehousing              5 - 10 yrs   \n",
       "2          Construction, Engineering, Cement, Metals              8 - 12 yrs   \n",
       "3                     IT-Software, Software Services               0 - 1 yrs   \n",
       "4                     IT-Software, Software Services               2 - 5 yrs   \n",
       "...                                              ...                     ...   \n",
       "3940                     Semiconductors, Electronics              9 - 12 yrs   \n",
       "3941                   Education, Teaching, Training               1 - 5 yrs   \n",
       "3942                   Education, Teaching, Training               4 - 6 yrs   \n",
       "3943                  IT-Software, Software Services              5 - 10 yrs   \n",
       "3944                  IT-Software, Software Services               2 - 7 yrs   \n",
       "\n",
       "                                              Job Title  \\\n",
       "0                                 Digital Media Planner   \n",
       "1                       Executive Assistant To Chairman   \n",
       "2                           Manager (Service Operation)   \n",
       "3                                DevOps Engineer Intern   \n",
       "4     PHP Developer (wordpress & Woo Commerce/shopif...   \n",
       "...                                                 ...   \n",
       "3940                              MTS-Software-Engineer   \n",
       "3941                        Client Relationship Manager   \n",
       "3942                                   Assoc. Prof.- CS   \n",
       "3943   Application/Cyber Security Specialist-New Jersey   \n",
       "3944                         Press Release Writer - SEO   \n",
       "\n",
       "                                             Key Skills     Location  \\\n",
       "0                         Media Planning| Digital Media  Los Angeles   \n",
       "1                    secretary| executive assistant| ea  Los Angeles   \n",
       "2     ERP| Succession Planning| MIS| Reports| Talent...  Los Angeles   \n",
       "3     Intern| Linux| Windows| Unix| DNS| C++| Perl| ...  Los Angeles   \n",
       "4     C| Woocommerce| Magento| Wordpress| MySQL| PHP...  Los Angeles   \n",
       "...                                                 ...          ...   \n",
       "3940  Graphics| C++| USB| Project management| SOC| F...      Detroit   \n",
       "3941  Service delivery| LMS| CRE| Integration servic...      Detroit   \n",
       "3942      Counselor| Mentor| Trainer| Advisor| Teaching      Detroit   \n",
       "3943  Security Analysis| Software Development Life C...      Detroit   \n",
       "3944  Press release| Public relations| Publishing| W...      Detroit   \n",
       "\n",
       "                                            Role  \\\n",
       "0               Media Planning Executive/Manager   \n",
       "1            Corporate Planning/Strategy Manager   \n",
       "2                               Training Manager   \n",
       "3                             Software Developer   \n",
       "4                             Software Developer   \n",
       "...                                          ...   \n",
       "3940                          Software Developer   \n",
       "3941                          Operations Manager   \n",
       "3942                          Lecturer/Professor   \n",
       "3943                          Software Developer   \n",
       "3944  Search Engine Optimisation /SEO Specialist   \n",
       "\n",
       "                               Role Category  \n",
       "0                                Advertising  \n",
       "1     Corporate Planning/Consulting/Strategy  \n",
       "2                       HR/ Recruitment / IR  \n",
       "3                       Programming & Design  \n",
       "4                       Programming & Design  \n",
       "...                                      ...  \n",
       "3940                    Programming & Design  \n",
       "3941                              Operations  \n",
       "3942                        University Level  \n",
       "3943                    Programming & Design  \n",
       "3944                Online/Digital Marketing  \n",
       "\n",
       "[17371 rows x 9 columns]"
      ]
     },
     "execution_count": 15,
     "metadata": {},
     "output_type": "execute_result"
    }
   ],
   "source": [
    "Combined_data=data1.append(data2).append(data3).append(data4).append(data5).append(data6).append(data7)\n",
    "Combined_data"
   ]
  },
  {
   "cell_type": "code",
   "execution_count": 16,
   "metadata": {
    "tags": []
   },
   "outputs": [],
   "source": [
    "def get_number_of_jobs_T(technology):\n",
    "    key_skills = Combined_data['Key Skills']\n",
    "    jobs=[]\n",
    "    for eachLine in key_skills:\n",
    "        eachLineSplit = eachLine.split(\" \")\n",
    "        for x in range(0, len(eachLineSplit)):\n",
    "            if technology in eachLineSplit[x]:\n",
    "                jobs.append(1)\n",
    "    number_of_jobs = len(jobs)\n",
    "    return technology ,number_of_jobs"
   ]
  },
  {
   "cell_type": "markdown",
   "metadata": {},
   "source": [
    "Calling the function for Python and checking if it works.\n"
   ]
  },
  {
   "cell_type": "code",
   "execution_count": 17,
   "metadata": {
    "tags": []
   },
   "outputs": [
    {
     "data": {
      "text/plain": [
       "('Python', 781)"
      ]
     },
     "execution_count": 17,
     "metadata": {},
     "output_type": "execute_result"
    }
   ],
   "source": [
    "get_number_of_jobs_T(\"Python\")"
   ]
  },
  {
   "cell_type": "markdown",
   "metadata": {},
   "source": [
    "#### Write a function to find number of jobs in US for a location of your choice\n"
   ]
  },
  {
   "cell_type": "code",
   "execution_count": 18,
   "metadata": {
    "tags": []
   },
   "outputs": [],
   "source": [
    "def get_number_of_jobs_L(location):\n",
    "    location_data = Combined_data[Combined_data[\"Location\"] == location]\n",
    "    jobs = location_data[\"Job Title\"]\n",
    "    number_of_jobs = len(jobs)\n",
    "    return location, number_of_jobs"
   ]
  },
  {
   "cell_type": "code",
   "execution_count": null,
   "metadata": {},
   "outputs": [],
   "source": []
  },
  {
   "cell_type": "markdown",
   "metadata": {},
   "source": [
    "Call the function for Los Angeles and check if it is working.\n",
    "\n",
    "\n"
   ]
  },
  {
   "cell_type": "code",
   "execution_count": 20,
   "metadata": {
    "tags": []
   },
   "outputs": [
    {
     "data": {
      "text/plain": [
       "('Detroit', 3945)"
      ]
     },
     "execution_count": 20,
     "metadata": {},
     "output_type": "execute_result"
    }
   ],
   "source": [
    "get_number_of_jobs_L(\"Detroit\")"
   ]
  },
  {
   "cell_type": "markdown",
   "metadata": {},
   "source": [
    "### Store the results in an excel file\n"
   ]
  },
  {
   "cell_type": "markdown",
   "metadata": {},
   "source": [
    "Call the API for all the given technologies above and write the results in an excel spreadsheet.\n"
   ]
  },
  {
   "cell_type": "markdown",
   "metadata": {},
   "source": [
    "If you do not know how create excel file using python, double click here for **hints**.\n",
    "\n",
    "<!--\n",
    "\n",
    "from openpyxl import Workbook        # import Workbook class from module openpyxl\n",
    "wb=Workbook()                        # create a workbook object\n",
    "ws=wb.active                         # use the active worksheet\n",
    "ws.append(['Country','Continent'])   # add a row with two columns 'Country' and 'Continent'\n",
    "ws.append(['Eygpt','Africa'])        # add a row with two columns 'Egypt' and 'Africa'\n",
    "ws.append(['India','Asia'])          # add another row\n",
    "ws.append(['France','Europe'])       # add another row\n",
    "wb.save(\"countries.xlsx\")            # save the workbook into a file called countries.xlsx\n",
    "\n",
    "\n",
    "-->\n"
   ]
  },
  {
   "cell_type": "markdown",
   "metadata": {},
   "source": [
    "Create a python list of all locations for which you need to find the number of jobs postings.\n"
   ]
  },
  {
   "cell_type": "code",
   "execution_count": 21,
   "metadata": {
    "tags": []
   },
   "outputs": [],
   "source": [
    "Locations = [\"Los Angeles\", \"New York\", \"San Francisco\", \"Washington DC\", \"Seattle\", \"Austin\", \"Detroit\"]\n"
   ]
  },
  {
   "cell_type": "markdown",
   "metadata": {},
   "source": [
    "Import libraries required to create excel spreadsheet\n"
   ]
  },
  {
   "cell_type": "code",
   "execution_count": 24,
   "metadata": {
    "tags": []
   },
   "outputs": [
    {
     "name": "stdout",
     "output_type": "stream",
     "text": [
      "Collecting openpyxl\n",
      "  Downloading openpyxl-3.1.2-py2.py3-none-any.whl (249 kB)\n",
      "\u001b[2K     \u001b[90m━━━━━━━━━━━━━━━━━━━━━━━━━━━━━━━━━━━━━━\u001b[0m \u001b[32m250.0/250.0 kB\u001b[0m \u001b[31m29.0 MB/s\u001b[0m eta \u001b[36m0:00:00\u001b[0m\n",
      "\u001b[?25hCollecting et-xmlfile (from openpyxl)\n",
      "  Downloading et_xmlfile-1.1.0-py3-none-any.whl (4.7 kB)\n",
      "Installing collected packages: et-xmlfile, openpyxl\n",
      "Successfully installed et-xmlfile-1.1.0 openpyxl-3.1.2\n"
     ]
    }
   ],
   "source": [
    "!pip install openpyxl\n",
    "import openpyxl"
   ]
  },
  {
   "cell_type": "markdown",
   "metadata": {},
   "source": [
    "Create a workbook and select the active worksheet\n"
   ]
  },
  {
   "cell_type": "code",
   "execution_count": null,
   "metadata": {},
   "outputs": [],
   "source": [
    "# your code goes here"
   ]
  },
  {
   "cell_type": "markdown",
   "metadata": {},
   "source": [
    "Find the number of jobs postings for each of the location in the above list.\n",
    "Write the Location name and the number of jobs postings into the excel spreadsheet.\n"
   ]
  },
  {
   "cell_type": "code",
   "execution_count": 39,
   "metadata": {
    "tags": []
   },
   "outputs": [
    {
     "data": {
      "text/html": [
       "<div>\n",
       "<style scoped>\n",
       "    .dataframe tbody tr th:only-of-type {\n",
       "        vertical-align: middle;\n",
       "    }\n",
       "\n",
       "    .dataframe tbody tr th {\n",
       "        vertical-align: top;\n",
       "    }\n",
       "\n",
       "    .dataframe thead th {\n",
       "        text-align: right;\n",
       "    }\n",
       "</style>\n",
       "<table border=\"1\" class=\"dataframe\">\n",
       "  <thead>\n",
       "    <tr style=\"text-align: right;\">\n",
       "      <th></th>\n",
       "      <th>Job_Number</th>\n",
       "    </tr>\n",
       "    <tr>\n",
       "      <th>Locations</th>\n",
       "      <th></th>\n",
       "    </tr>\n",
       "  </thead>\n",
       "  <tbody>\n",
       "    <tr>\n",
       "      <th>Los Angeles</th>\n",
       "      <td>640</td>\n",
       "    </tr>\n",
       "    <tr>\n",
       "      <th>New York</th>\n",
       "      <td>3226</td>\n",
       "    </tr>\n",
       "    <tr>\n",
       "      <th>San Francisco</th>\n",
       "      <td>435</td>\n",
       "    </tr>\n",
       "    <tr>\n",
       "      <th>Washington DC</th>\n",
       "      <td>5316</td>\n",
       "    </tr>\n",
       "    <tr>\n",
       "      <th>Seattle</th>\n",
       "      <td>3375</td>\n",
       "    </tr>\n",
       "    <tr>\n",
       "      <th>Austin</th>\n",
       "      <td>434</td>\n",
       "    </tr>\n",
       "    <tr>\n",
       "      <th>Detroit</th>\n",
       "      <td>3945</td>\n",
       "    </tr>\n",
       "  </tbody>\n",
       "</table>\n",
       "</div>"
      ],
      "text/plain": [
       "               Job_Number\n",
       "Locations                \n",
       "Los Angeles           640\n",
       "New York             3226\n",
       "San Francisco         435\n",
       "Washington DC        5316\n",
       "Seattle              3375\n",
       "Austin                434\n",
       "Detroit              3945"
      ]
     },
     "execution_count": 39,
     "metadata": {},
     "output_type": "execute_result"
    }
   ],
   "source": [
    "#your code goes here\n",
    "Results_df = pd.DataFrame()\n",
    "Results_df[\"Locations\"] = Locations\n",
    "Job_Number=[]\n",
    "for n in Locations:\n",
    "    Jobs=get_number_of_jobs_L(n)\n",
    "    Job_Number.append(Jobs[1])\n",
    "Results_df[\"Job_Number\"] = Job_Number\n",
    "Results_df.set_index('Locations', drop=True, inplace=True)\n",
    "Results_df\n",
    "\n",
    "\n"
   ]
  },
  {
   "cell_type": "markdown",
   "metadata": {},
   "source": [
    "Save into an excel spreadsheet named 'job-postings.xlsx'.\n"
   ]
  },
  {
   "cell_type": "code",
   "execution_count": 40,
   "metadata": {
    "tags": []
   },
   "outputs": [],
   "source": [
    "#your code goes here\n",
    "Results_df.to_excel('job-postings.xlsx', sheet_name='Job Postings')"
   ]
  },
  {
   "cell_type": "markdown",
   "metadata": {},
   "source": [
    "#### In the similar way, you can try for below given technologies and results  can be stored in an excel sheet.\n"
   ]
  },
  {
   "cell_type": "markdown",
   "metadata": {},
   "source": [
    "Collect the number of job postings for the following languages using the API:\n",
    "\n",
    "*   C\n",
    "*   C#\n",
    "*   C++\n",
    "*   Java\n",
    "*   JavaScript\n",
    "*   Python\n",
    "*   Scala\n",
    "*   Oracle\n",
    "*   SQL Server\n",
    "*   MySQL Server\n",
    "*   PostgreSQL\n",
    "*   MongoDB\n"
   ]
  },
  {
   "cell_type": "code",
   "execution_count": 41,
   "metadata": {
    "tags": []
   },
   "outputs": [],
   "source": [
    "# your code goes here\n",
    "Results2_df = pd.DataFrame()\n",
    "Languages=['C', 'C#', 'C++', 'Java', 'JavaScript', 'Python', 'Scala', 'Oracle', 'SQL Server', 'MySQL Server', 'PostgreSQL', 'MongoDB']\n",
    "Results2_df[\"Languages\"] = Languages\n",
    "Job_Number=[]\n",
    "for n in Languages:\n",
    "    Jobs=get_number_of_jobs_T(n)\n",
    "    Job_Number.append(Jobs[1])\n",
    "Results2_df[\"Job_Number\"] = Job_Number\n",
    "Results2_df.set_index('Languages', drop=True, inplace=True)\n",
    "Results2_df.to_excel('job-postings.xlsx', sheet_name='Languages')"
   ]
  },
  {
   "cell_type": "markdown",
   "metadata": {},
   "source": [
    "## Author\n"
   ]
  },
  {
   "cell_type": "markdown",
   "metadata": {},
   "source": [
    "Ayushi Jain\n"
   ]
  },
  {
   "cell_type": "markdown",
   "metadata": {},
   "source": [
    "### Other Contributors\n"
   ]
  },
  {
   "cell_type": "markdown",
   "metadata": {},
   "source": [
    "Rav Ahuja\n",
    "\n",
    "Lakshmi Holla\n",
    "\n",
    "Malika\n"
   ]
  },
  {
   "cell_type": "markdown",
   "metadata": {},
   "source": [
    "## Change Log\n"
   ]
  },
  {
   "cell_type": "markdown",
   "metadata": {},
   "source": [
    "| Date (YYYY-MM-DD) | Version | Changed By        | Change Description                 |\n",
    "| ----------------- | ------- | ----------------- | ---------------------------------- | \n",
    "| 2022-01-19        | 0.3     | Lakshmi Holla        | Added changes in the markdown      |\n",
    "| 2021-06-25        | 0.2     | Malika            | Updated GitHub job json link       |\n",
    "| 2020-10-17        | 0.1     | Ramesh Sannareddy | Created initial version of the lab |\n"
   ]
  },
  {
   "cell_type": "markdown",
   "metadata": {},
   "source": [
    "Copyright © 2022 IBM Corporation. All rights reserved. \n"
   ]
  }
 ],
 "metadata": {
  "kernelspec": {
   "display_name": "Python",
   "language": "python",
   "name": "conda-env-python-py"
  },
  "language_info": {
   "codemirror_mode": {
    "name": "ipython",
    "version": 3
   },
   "file_extension": ".py",
   "mimetype": "text/x-python",
   "name": "python",
   "nbconvert_exporter": "python",
   "pygments_lexer": "ipython3",
   "version": "3.7.12"
  }
 },
 "nbformat": 4,
 "nbformat_minor": 4
}
